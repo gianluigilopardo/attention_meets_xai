{
 "cells": [
  {
   "cell_type": "markdown",
   "id": "989d4e0b",
   "metadata": {},
   "source": [
    "# Gradient meets attention\n",
    "Generates Figure 5 of the paper Attention Meets Post-hoc Interpretability: A Mathematical Perspective."
   ]
  },
  {
   "cell_type": "code",
   "execution_count": 1,
   "id": "93ea7683",
   "metadata": {},
   "outputs": [],
   "source": [
    "import os\n",
    "import pickle\n",
    "import itertools \n",
    "\n",
    "import torch\n",
    "from torch.autograd import Variable\n",
    "import torch.nn.functional as F\n",
    "\n",
    "import numpy as np\n",
    "import math\n",
    "\n",
    "import matplotlib.pyplot as plt \n",
    "import matplotlib.colors as colors\n",
    "\n",
    "from lime import lime_text\n",
    "\n",
    "import re"
   ]
  },
  {
   "cell_type": "code",
   "execution_count": 2,
   "id": "edf52f41",
   "metadata": {},
   "outputs": [],
   "source": [
    "plt.rc('pdf', fonttype=42)\n",
    "plt.rc('ps', fonttype=42)\n",
    "plt.rcParams.update({'font.size': 18})"
   ]
  },
  {
   "cell_type": "code",
   "execution_count": 3,
   "id": "4576a53f",
   "metadata": {},
   "outputs": [],
   "source": [
    "SEED = 42\n",
    "torch.manual_seed(SEED)\n",
    "np.random.seed(SEED)"
   ]
  },
  {
   "cell_type": "code",
   "execution_count": 4,
   "id": "a8978ec8",
   "metadata": {},
   "outputs": [],
   "source": [
    "from models.utils import get_g_values\n",
    "from models.utils import scaled_dot_product\n",
    "from data.dataset import Dataset\n",
    "import params"
   ]
  },
  {
   "cell_type": "code",
   "execution_count": 5,
   "id": "bc8c7b05",
   "metadata": {},
   "outputs": [],
   "source": [
    "import sys\n",
    "sys.path.append(\"C:/Users/gianl/Anaconda3/bin\")"
   ]
  },
  {
   "cell_type": "code",
   "execution_count": 6,
   "id": "c387dd06",
   "metadata": {},
   "outputs": [
    {
     "name": "stdout",
     "output_type": "stream",
     "text": [
      "Using device: cpu\n",
      "Model loaded successfully from: .\\models\\saved\\IMDB\\multi_head_e\\model\n"
     ]
    }
   ],
   "source": [
    "# Check if CUDA is available and set device accordingly\n",
    "device = torch.device(\"cuda\" if torch.cuda.is_available() else \"cpu\")\n",
    "print(f\"Using device: {device}\")\n",
    "\n",
    "# Define model name and path\n",
    "model_name = 'multi_head_e\\\\model'\n",
    "model_path = os.path.join('.', 'models', 'saved', 'IMDB', model_name)\n",
    "\n",
    "# Load the classifier model\n",
    "with open(os.path.join(model_path, 'classifier.pkl'), 'rb') as inp:\n",
    "    classifier = pickle.load(inp)\n",
    "print(f\"Model loaded successfully from: {model_path}\")"
   ]
  },
  {
   "cell_type": "code",
   "execution_count": 7,
   "id": "d1d25c6b",
   "metadata": {},
   "outputs": [
    {
     "data": {
      "text/plain": [
       "array([[-0.64168686,  0.58398646]], dtype=float32)"
      ]
     },
     "execution_count": 7,
     "metadata": {},
     "output_type": "execute_result"
    }
   ],
   "source": [
    "example = \"attention based explanations are popular but questionable\"\n",
    "\n",
    "classifier.predict_proba([example])"
   ]
  },
  {
   "cell_type": "code",
   "execution_count": 8,
   "id": "f98bc9ba",
   "metadata": {},
   "outputs": [
    {
     "data": {
      "text/plain": [
       "'attention based explanations are popular but questionable'"
      ]
     },
     "execution_count": 8,
     "metadata": {},
     "output_type": "execute_result"
    }
   ],
   "source": [
    "example"
   ]
  },
  {
   "cell_type": "code",
   "execution_count": 9,
   "id": "6f256d09",
   "metadata": {},
   "outputs": [],
   "source": [
    "unk_string = ' '.join([params.MASK for i in range(params.MAX_LEN-1)])"
   ]
  },
  {
   "cell_type": "code",
   "execution_count": 10,
   "id": "914601b2",
   "metadata": {},
   "outputs": [
    {
     "name": "stdout",
     "output_type": "stream",
     "text": [
      "tensor([[-1.9244,  2.2145]], grad_fn=<MmBackward0>)\n",
      "tensor([[ 0.7073, -0.7996]], grad_fn=<MmBackward0>)\n",
      "tensor([[-2.8908,  3.1665]], grad_fn=<MmBackward0>)\n",
      "tensor([[ 1.8753, -2.5159]], grad_fn=<MmBackward0>)\n",
      "tensor([[-1.4783,  0.8150]], grad_fn=<MmBackward0>)\n",
      "tensor([[-0.1392,  0.6234]], grad_fn=<MmBackward0>)\n"
     ]
    }
   ],
   "source": [
    "# Preprocess the input sentence\n",
    "x = torch.stack([classifier.preprocess(example)])\n",
    "\n",
    "v, q, k, attention, g_u = [], [], [], [], []\n",
    "W_k, W_q, W_v, W, q_cls = [], [], [], [], []\n",
    "\n",
    "    \n",
    "emb = classifier.embedding(x.to(torch.int64))\n",
    "e = classifier.pe(emb)\n",
    "\n",
    "for h in range(params.NUM_HEADS):\n",
    "    # Transform the sentence embedding using the embedding layer\n",
    "    head = classifier.heads[h]\n",
    "\n",
    "\n",
    "    # Extract query, key, and value representations from the embedding\n",
    "    q.append(head.query(e))\n",
    "    k.append(head.key(e))\n",
    "    v.append(head.value(e))\n",
    "\n",
    "    W_k.append(head.key(torch.eye(e.shape[-1])))\n",
    "    W_q.append(head.query(torch.eye(e.shape[-1])))\n",
    "    W_v.append(head.value(torch.eye(e.shape[-1])))\n",
    "    W.append(head.classifier(torch.eye(v[h].shape[-1]))[:, 1])\n",
    "    q_cls.append(q[h][:, classifier.cls_pos, :])\n",
    "\n",
    "    # Calculate scaled dot-product attention\n",
    "    values, alpha, g = scaled_dot_product(q[h], k[h], v[h], return_g=True, scale=True)\n",
    "    \n",
    "    attention.append(alpha)\n",
    "    g_u.append(g[:, classifier.cls_pos, :])\n",
    "    \n",
    "    # Extract attention-weighted values for the classifier layer\n",
    "    cls_values = values[:, classifier.cls_pos, :]\n",
    "\n",
    "    # Pass the attention-weighted values through the classifier to obtain predictions\n",
    "    output = head.classifier(cls_values)\n",
    "\n",
    "    print(output)"
   ]
  },
  {
   "cell_type": "code",
   "execution_count": 11,
   "id": "0eda1899",
   "metadata": {},
   "outputs": [],
   "source": [
    "d_k = params.ATTN_DIM\n",
    "n_heads = params.NUM_HEADS"
   ]
  },
  {
   "cell_type": "code",
   "execution_count": 12,
   "id": "9ca19a58",
   "metadata": {},
   "outputs": [],
   "source": [
    "# Preprocess the \"UNK\" token\n",
    "x_unk = torch.stack([classifier.preprocess(unk_string)])\n",
    "\n",
    "v_unk, q_unk, k_unk, g_unk = [], [], [], []\n",
    "\n",
    "# Convert the \"UNK\" token to embedding representation\n",
    "emb = classifier.embedding(x_unk.to(torch.int64))\n",
    "e_unk = classifier.pe(emb)\n",
    "\n",
    "for h in range(params.NUM_HEADS):\n",
    "\n",
    "    # Extract the hidden state (h) from the \"UNK\" token embedding\n",
    "    v_unk.append(classifier.heads[h].value(e_unk)) \n",
    "    q_unk.append(classifier.heads[h].query(e_unk))\n",
    "    k_unk.append(classifier.heads[h].key(e_unk)) \n",
    "    \n",
    "    d_k = q_unk[h].size()[-1]\n",
    "    attn_logits = torch.matmul(q[h], k_unk[h].transpose(-2, -1)) / math.sqrt(d_k)\n",
    "    g_unk.append(torch.exp(attn_logits)[:, classifier.cls_pos, :])"
   ]
  },
  {
   "cell_type": "code",
   "execution_count": null,
   "id": "3551540d",
   "metadata": {},
   "outputs": [],
   "source": []
  },
  {
   "cell_type": "code",
   "execution_count": 13,
   "id": "fd5434fb",
   "metadata": {},
   "outputs": [],
   "source": [
    "grad_theory = []\n",
    "for h in range(n_heads):\n",
    "    grad_head = []\n",
    "\n",
    "    for t in range(params.MAX_LEN):     \n",
    "        p1 = torch.matmul(q_cls[h], W_k[h].T) / math.sqrt(d_k) * torch.matmul(v[h][:, t, :], W[h])\n",
    "        p2 = torch.matmul(W[h], W_v[h].T)\n",
    "        n1 = torch.sum(torch.stack([attention[h][:, classifier.cls_pos, s] * \n",
    "                                         torch.matmul(q_cls[h], W_k[h].T) / math.sqrt(d_k) * \n",
    "                                         torch.matmul(v[h][:, s, :], W[h])\n",
    "                                         for s in range(params.MAX_LEN)]), dim=0)\n",
    "\n",
    "        grad_head.append((attention[h][:, classifier.cls_pos, t]) * (p1 + p2 - n1))\n",
    "        \n",
    "    grad_theory.append(torch.cat(grad_head))"
   ]
  },
  {
   "cell_type": "code",
   "execution_count": 14,
   "id": "340b22e3",
   "metadata": {},
   "outputs": [
    {
     "data": {
      "text/plain": [
       "torch.Size([6, 256, 128])"
      ]
     },
     "execution_count": 14,
     "metadata": {},
     "output_type": "execute_result"
    }
   ],
   "source": [
    "torch.stack(grad_theory).shape"
   ]
  },
  {
   "cell_type": "code",
   "execution_count": null,
   "id": "5b41d122",
   "metadata": {},
   "outputs": [],
   "source": []
  },
  {
   "cell_type": "code",
   "execution_count": 15,
   "id": "905f23f1",
   "metadata": {},
   "outputs": [
    {
     "data": {
      "text/plain": [
       "tensor([[-1.0511e-01, -2.9445e-02,  5.7189e-02,  ...,  7.9856e-02,\n",
       "         -9.5229e-02, -3.0264e-01],\n",
       "        [ 4.4375e-04, -2.3625e-04, -1.1520e-03,  ...,  8.6789e-03,\n",
       "          6.3203e-03,  6.8574e-04],\n",
       "        [ 2.7160e-02,  1.7591e-02, -4.2354e-02,  ...,  9.9584e-02,\n",
       "          4.4732e-02, -4.5896e-02],\n",
       "        ...,\n",
       "        [ 2.3949e-04,  1.9903e-04,  1.5449e-04,  ..., -2.9668e-04,\n",
       "         -1.4545e-04,  1.2914e-04],\n",
       "        [ 1.9137e-04,  1.6650e-04,  1.4803e-04,  ..., -2.7715e-04,\n",
       "         -1.2557e-04,  1.7253e-04],\n",
       "        [ 1.9224e-04,  1.6840e-04,  2.5337e-04,  ..., -3.4953e-04,\n",
       "         -1.6771e-04,  3.1299e-04]], grad_fn=<MeanBackward1>)"
      ]
     },
     "execution_count": 15,
     "metadata": {},
     "output_type": "execute_result"
    }
   ],
   "source": [
    "torch.mean(torch.stack(grad_theory), dim=0)"
   ]
  },
  {
   "cell_type": "code",
   "execution_count": null,
   "id": "d9540258",
   "metadata": {},
   "outputs": [],
   "source": []
  },
  {
   "cell_type": "code",
   "execution_count": 16,
   "id": "c1094909",
   "metadata": {},
   "outputs": [
    {
     "name": "stdout",
     "output_type": "stream",
     "text": [
      "tensor([[-0.6417,  0.5840]], grad_fn=<DivBackward0>)\n",
      "tensor([[-1.0361e-01, -2.2006e-02,  6.3245e-02,  ...,  5.0508e-02,\n",
      "         -1.3956e-01, -3.1812e-01],\n",
      "        [ 4.4375e-04, -2.3625e-04, -1.1520e-03,  ...,  8.6789e-03,\n",
      "          6.3203e-03,  6.8574e-04],\n",
      "        [ 2.7160e-02,  1.7591e-02, -4.2354e-02,  ...,  9.9584e-02,\n",
      "          4.4732e-02, -4.5896e-02],\n",
      "        ...,\n",
      "        [ 2.3949e-04,  1.9903e-04,  1.5449e-04,  ..., -2.9668e-04,\n",
      "         -1.4545e-04,  1.2914e-04],\n",
      "        [ 1.9137e-04,  1.6650e-04,  1.4803e-04,  ..., -2.7715e-04,\n",
      "         -1.2557e-04,  1.7253e-04],\n",
      "        [ 1.9224e-04,  1.6840e-04,  2.5337e-04,  ..., -3.4953e-04,\n",
      "         -1.6771e-04,  3.1299e-04]])\n"
     ]
    }
   ],
   "source": [
    "grad = {}\n",
    "\n",
    "def get_gradient(name):\n",
    "    def hook(model, grad_input, grad_output):\n",
    "        grad[name] = grad_output[0].detach()\n",
    "    return hook\n",
    "        \n",
    "handle_gradient_pe = classifier.pe.register_full_backward_hook(get_gradient('pe'))\n",
    "\n",
    "Z = classifier(x)\n",
    "\n",
    "Z[0,1].backward()\n",
    "\n",
    "# Print output and gradients\n",
    "gradient_e = torch.squeeze(grad['pe'])\n",
    "print(Z)\n",
    "\n",
    "print(gradient_e)"
   ]
  },
  {
   "cell_type": "code",
   "execution_count": 17,
   "id": "af7a9480",
   "metadata": {},
   "outputs": [
    {
     "data": {
      "text/plain": [
       "tensor([[-1.0511e-01, -2.9445e-02,  5.7189e-02,  ...,  7.9856e-02,\n",
       "         -9.5229e-02, -3.0264e-01],\n",
       "        [ 4.4375e-04, -2.3625e-04, -1.1520e-03,  ...,  8.6789e-03,\n",
       "          6.3203e-03,  6.8574e-04],\n",
       "        [ 2.7160e-02,  1.7591e-02, -4.2354e-02,  ...,  9.9584e-02,\n",
       "          4.4732e-02, -4.5896e-02],\n",
       "        ...,\n",
       "        [ 2.3949e-04,  1.9903e-04,  1.5449e-04,  ..., -2.9668e-04,\n",
       "         -1.4545e-04,  1.2914e-04],\n",
       "        [ 1.9137e-04,  1.6650e-04,  1.4803e-04,  ..., -2.7715e-04,\n",
       "         -1.2557e-04,  1.7253e-04],\n",
       "        [ 1.9224e-04,  1.6840e-04,  2.5337e-04,  ..., -3.4953e-04,\n",
       "         -1.6771e-04,  3.1299e-04]], grad_fn=<MeanBackward1>)"
      ]
     },
     "execution_count": 17,
     "metadata": {},
     "output_type": "execute_result"
    }
   ],
   "source": [
    "torch.mean(torch.stack(grad_theory), dim=0)"
   ]
  },
  {
   "cell_type": "markdown",
   "id": "eca7b242",
   "metadata": {},
   "source": [
    "## Visualization"
   ]
  },
  {
   "cell_type": "code",
   "execution_count": 18,
   "id": "f43f9868",
   "metadata": {},
   "outputs": [],
   "source": [
    "grad_f_theory = torch.mean(torch.stack(grad_theory), dim=0).detach().numpy()\n",
    "grad_f_practice = gradient_e.detach().numpy()"
   ]
  },
  {
   "cell_type": "code",
   "execution_count": 19,
   "id": "89e4f6d5",
   "metadata": {},
   "outputs": [
    {
     "name": "stdout",
     "output_type": "stream",
     "text": [
      "['[CLS]', 'attention', 'based', 'explanations', 'are', 'popular', 'but', 'questionable']\n"
     ]
    }
   ],
   "source": [
    "tokens = classifier.tokenizer(example)\n",
    "labels = ['[CLS]'] + tokens \n",
    "num_tokens = 10\n",
    "print(labels)"
   ]
  },
  {
   "cell_type": "code",
   "execution_count": 20,
   "id": "7541cd86",
   "metadata": {},
   "outputs": [],
   "source": [
    "num_e = 80\n",
    "\n",
    "# Define a custom colormap for visualization\n",
    "cmap = colors.LinearSegmentedColormap.from_list(\"\", [\"red\",\"white\",\"green\"])\n",
    "\n",
    "# Compute the global minimum and maximum of the data\n",
    "gmin = min(grad_f_theory[1:num_tokens, :num_e].min(), grad_f_practice[1:num_tokens, :num_e].min())\n",
    "gmax = max(grad_f_theory[1:num_tokens, :num_e].max(), grad_f_practice[1:num_tokens, :num_e].max())\n",
    "\n",
    "# Define the color range for the colormap\n",
    "vmax = min(abs(gmax), abs(gmin)) \n",
    "vmin = -vmax"
   ]
  },
  {
   "cell_type": "code",
   "execution_count": 21,
   "id": "83b64a29",
   "metadata": {},
   "outputs": [
    {
     "data": {
      "image/png": "[encoded data removed]",
      "text/plain": [
       "<Figure size 1728x720 with 2 Axes>"
      ]
     },
     "metadata": {
      "needs_background": "light"
     },
     "output_type": "display_data"
    }
   ],
   "source": [
    "# Initialize a figure with a specific size\n",
    "fig = plt.figure(figsize=(24,10))\n",
    "\n",
    "# Create the first subplot for the theoretical gradient\n",
    "ax1 = fig.add_subplot(2, 1, 1)\n",
    "mappable = ax1.matshow(grad_f_theory[:num_tokens, :num_e], cmap=cmap, vmin=vmin, vmax=vmax)\n",
    "ax1.set_yticks(range(len(labels)))\n",
    "ax1.set_yticklabels(labels)\n",
    "ax1.set_title('Theory')\n",
    "\n",
    "# Create the second subplot for the practical gradient\n",
    "ax2 = fig.add_subplot(2, 1, 2)\n",
    "mappable = ax2.matshow(grad_f_practice[:num_tokens, :num_e], cmap=cmap, vmin=vmin, vmax=vmax)\n",
    "ax2.set_yticks(range(len(labels)))\n",
    "ax2.set_yticklabels(labels)\n",
    "ax2.set_title('Practice')\n",
    "\n",
    "# Save the figure as a PDF file with a tight layout\n",
    "plt.savefig('results/paper/gradient_meets_attention.pdf', bbox_inches='tight', transparent=True, pad_inches=0)\n",
    "\n",
    "# Display the figure\n",
    "plt.show()"
   ]
  },
  {
   "cell_type": "code",
   "execution_count": null,
   "id": "532c15ce",
   "metadata": {},
   "outputs": [],
   "source": []
  }
 ],
 "metadata": {
  "kernelspec": {
   "display_name": "Python 3",
   "language": "python",
   "name": "python3"
  },
  "language_info": {
   "codemirror_mode": {
    "name": "ipython",
    "version": 3
   },
   "file_extension": ".py",
   "mimetype": "text/x-python",
   "name": "python",
   "nbconvert_exporter": "python",
   "pygments_lexer": "ipython3",
   "version": "3.8.8"
  }
 },
 "nbformat": 4,
 "nbformat_minor": 5
}
