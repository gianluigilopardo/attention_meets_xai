{
 "cells": [
  {
   "cell_type": "markdown",
   "id": "989d4e0b",
   "metadata": {},
   "source": [
    "# LIME meets attention \n",
    "\n",
    "\n",
    "Generates Figure 4 of the paper *Attention Meets Post-hoc Interpretability: A Mathematical Perspective*. "
   ]
  },
  {
   "cell_type": "code",
   "execution_count": 1,
   "id": "93ea7683",
   "metadata": {},
   "outputs": [],
   "source": [
    "import os\n",
    "import pickle\n",
    "import itertools \n",
    "\n",
    "import torch\n",
    "import numpy as np\n",
    "\n",
    "import matplotlib.pyplot as plt \n",
    "import math\n",
    "from lime import lime_text\n",
    "\n",
    "import re"
   ]
  },
  {
   "cell_type": "code",
   "execution_count": 2,
   "id": "edf52f41",
   "metadata": {},
   "outputs": [],
   "source": [
    "plt.rc('pdf', fonttype=42)\n",
    "plt.rc('ps', fonttype=42)\n",
    "plt.rcParams.update({'font.size': 18})"
   ]
  },
  {
   "cell_type": "code",
   "execution_count": 3,
   "id": "4576a53f",
   "metadata": {},
   "outputs": [],
   "source": [
    "SEED = 42\n",
    "torch.manual_seed(SEED)\n",
    "np.random.seed(SEED)"
   ]
  },
  {
   "cell_type": "code",
   "execution_count": 4,
   "id": "a8978ec8",
   "metadata": {},
   "outputs": [],
   "source": [
    "from models.utils import get_g_values\n",
    "from models.utils import scaled_dot_product\n",
    "from data.dataset import Dataset\n",
    "import params"
   ]
  },
  {
   "cell_type": "code",
   "execution_count": 5,
   "id": "bc8c7b05",
   "metadata": {},
   "outputs": [],
   "source": [
    "import sys\n",
    "sys.path.append(\"C:/Users/gianl/Anaconda3/bin\")"
   ]
  },
  {
   "cell_type": "code",
   "execution_count": 6,
   "id": "c387dd06",
   "metadata": {},
   "outputs": [
    {
     "name": "stdout",
     "output_type": "stream",
     "text": [
      "Using device: cpu\n",
      "Model loaded successfully from: .\\models\\saved\\IMDB\\multi_head_e\\model\n"
     ]
    }
   ],
   "source": [
    "# Check if CUDA is available and set device accordingly\n",
    "device = torch.device(\"cuda\" if torch.cuda.is_available() else \"cpu\")\n",
    "print(f\"Using device: {device}\")\n",
    "\n",
    "# Define model name and path\n",
    "model_name = 'multi_head_e\\\\model'\n",
    "model_path = os.path.join('.', 'models', 'saved', 'IMDB', model_name)\n",
    "\n",
    "# Load the classifier model\n",
    "with open(os.path.join(model_path, 'classifier.pkl'), 'rb') as inp:\n",
    "    classifier = pickle.load(inp)\n",
    "print(f\"Model loaded successfully from: {model_path}\")"
   ]
  },
  {
   "cell_type": "code",
   "execution_count": 7,
   "id": "42a1aaf4",
   "metadata": {},
   "outputs": [
    {
     "name": "stdout",
     "output_type": "stream",
     "text": [
      "Test subset: 25000\n"
     ]
    }
   ],
   "source": [
    "# Define the test size\n",
    "test_size = 25000\n",
    "\n",
    "# Import the IMDB dataset from torchtext\n",
    "from torchtext.datasets import IMDB\n",
    "\n",
    "# Load the IMDB dataset\n",
    "dataset = Dataset(IMDB)\n",
    "\n",
    "# Get the test subset\n",
    "_, _, test_subset = dataset.get_subsets(0, 0, test_size)\n",
    "print(f\"Test subset: {len(test_subset)}\")"
   ]
  },
  {
   "cell_type": "code",
   "execution_count": 8,
   "id": "199d05ae",
   "metadata": {},
   "outputs": [],
   "source": [
    "# Convert test subset to a NumPy array\n",
    "sample = np.array(test_subset)\n",
    "\n",
    "# Extract only the second column (text content)\n",
    "texts = sample[:, 1]"
   ]
  },
  {
   "cell_type": "code",
   "execution_count": 9,
   "id": "a990ef06",
   "metadata": {},
   "outputs": [],
   "source": [
    "n_heads = params.NUM_HEADS"
   ]
  },
  {
   "cell_type": "code",
   "execution_count": 10,
   "id": "2b878f77",
   "metadata": {},
   "outputs": [],
   "source": [
    "# LIME initialization\n",
    "lime_explainer = lime_text.LimeTextExplainer(class_names=['negative', 'positive'], mask_string=params.MASK)"
   ]
  },
  {
   "cell_type": "code",
   "execution_count": 11,
   "id": "13cfa3fd",
   "metadata": {},
   "outputs": [],
   "source": [
    "doc = texts[7]\n",
    "doc = re.sub('[^A-Za-z0-9]+', ' ', doc)"
   ]
  },
  {
   "cell_type": "code",
   "execution_count": 12,
   "id": "d1d25c6b",
   "metadata": {},
   "outputs": [
    {
     "data": {
      "text/plain": [
       "array([[ 0.9287896, -1.093392 ]], dtype=float32)"
      ]
     },
     "execution_count": 12,
     "metadata": {},
     "output_type": "execute_result"
    }
   ],
   "source": [
    "example = ' '.join(classifier.tokenizer(doc)[:params.MAX_LEN-1])\n",
    "\n",
    "classifier.predict_proba([example])"
   ]
  },
  {
   "cell_type": "code",
   "execution_count": 13,
   "id": "f97cdeb3",
   "metadata": {},
   "outputs": [
    {
     "data": {
      "text/plain": [
       "'i find it amazing that so many people probably poles have voted for this movie giving it such grades mostly tens ok the movie was fine funny but it was nothing special on the other hand the only good thing about kiler is the dialogues rather not comprehensive for non poles screenplay is primitive the acting except for jerzy stuhr as ryba awful it s too much ado about nothing fortunately it s not included in the top 250 p s the sequel kilerow 2 och 2 kilers is on the way and it s just the same story'"
      ]
     },
     "execution_count": 13,
     "metadata": {},
     "output_type": "execute_result"
    }
   ],
   "source": [
    "example"
   ]
  },
  {
   "cell_type": "code",
   "execution_count": 14,
   "id": "91d02bcf",
   "metadata": {},
   "outputs": [],
   "source": [
    "def get_head(h):\n",
    "    def head_classifier(x):\n",
    "        head = classifier.heads[h]\n",
    "        x = torch.stack([classifier.preprocess(t) for t in x])  # Preprocess the input text.\n",
    "        with torch.no_grad():  # Disable gradient computation during prediction.\n",
    "            emb = classifier.embedding(x.to(torch.int64))\n",
    "            e = classifier.pe(emb)\n",
    "            preds = head(e)  # Forward pass through the model.\n",
    "        return preds\n",
    "    return head_classifier"
   ]
  },
  {
   "cell_type": "code",
   "execution_count": 15,
   "id": "22f69876",
   "metadata": {},
   "outputs": [
    {
     "name": "stdout",
     "output_type": "stream",
     "text": [
      "-1.093392\n"
     ]
    }
   ],
   "source": [
    "head_cls = [get_head(h) for h in range(n_heads)]\n",
    "print(np.mean([head_cls[h]([example])[0,1] for h in range(n_heads)]))"
   ]
  },
  {
   "cell_type": "markdown",
   "id": "ed04b9b5",
   "metadata": {},
   "source": [
    "## Veryfing LIME additivity "
   ]
  },
  {
   "cell_type": "code",
   "execution_count": 16,
   "id": "04b3b709",
   "metadata": {},
   "outputs": [],
   "source": [
    "lime_exp = []\n",
    "for h in range(params.NUM_HEADS):\n",
    "    lime_exp.append(dict(lime_explainer.explain_instance(example, head_cls[h], num_features=params.MAX_LEN-1).as_list()))"
   ]
  },
  {
   "cell_type": "code",
   "execution_count": 17,
   "id": "b65dd19d",
   "metadata": {},
   "outputs": [],
   "source": [
    "lime_exp_mh = lime_explainer.explain_instance(example, classifier.predict_proba, num_features=params.MAX_LEN-1)\n",
    "lime_exp_mh = dict(lime_exp_mh.as_list())"
   ]
  },
  {
   "cell_type": "code",
   "execution_count": 18,
   "id": "d8102a04",
   "metadata": {},
   "outputs": [],
   "source": [
    "lime_avg_heads = {}\n",
    "for k in lime_exp_mh.keys():\n",
    "    lime_avg_heads[k] = np.mean([lime_exp[h][k] for h in range(n_heads)])"
   ]
  },
  {
   "cell_type": "code",
   "execution_count": 19,
   "id": "b66b242a",
   "metadata": {},
   "outputs": [],
   "source": [
    "num_tokens = 10\n",
    "labels = list(lime_exp_mh.keys())[:num_tokens]"
   ]
  },
  {
   "cell_type": "code",
   "execution_count": 20,
   "id": "a6d9f640",
   "metadata": {},
   "outputs": [
    {
     "data": {
      "image/png": "[encoded data removed]",
      "text/plain": [
       "<Figure size 720x432 with 1 Axes>"
      ]
     },
     "metadata": {
      "needs_background": "light"
     },
     "output_type": "display_data"
    }
   ],
   "source": [
    "# Create a figure for visualization\n",
    "plt.figure(figsize=(10, 6))\n",
    "\n",
    "# Generate a box plot of the attention scores for each token\n",
    "plt.title('LIME weights')\n",
    "plt.xlabel('Token')\n",
    "plt.xticks(rotation=90)\n",
    "plt.ylabel('Weights')\n",
    "\n",
    "# Overlay the approximated attention weights with red 'x' markers\n",
    "plt.scatter(range(1, len(labels) + 1), np.array([lime_exp_mh[k] for k in labels]), marker='x', s=100, color='red', label='Multi Head')\n",
    "plt.scatter(range(1, len(labels) + 1), np.array([lime_avg_heads[k] for k in labels]), marker='x', s=100, color='blue', label='Sum over heads')\n",
    "\n",
    "# plt.labels(labels=labels)\n",
    "plt.xticks(range(1, len(labels)+1), labels=labels)\n",
    "\n",
    "# Adjust the bottom margin to accommodate all labels\n",
    "plt.subplots_adjust(bottom=0.2)\n",
    "\n",
    "plt.legend()\n",
    "\n",
    "# Show the plot\n",
    "plt.show()"
   ]
  },
  {
   "cell_type": "markdown",
   "id": "98bfe2d1",
   "metadata": {},
   "source": [
    "## Veryfing approximation: Illustration of the accuracy of Eq. (19)"
   ]
  },
  {
   "cell_type": "code",
   "execution_count": 21,
   "id": "83fd8718",
   "metadata": {},
   "outputs": [
    {
     "name": "stdout",
     "output_type": "stream",
     "text": [
      "Average LIME explanation over 5 repetitions:\n",
      "{'awful': -1.6081542207881134, 'amazing': 1.116125616759888, 'nothing': -0.8870189737423511, 'it': 0.3587613265644123, 'many': 0.25918481953767264, 'except': -0.21551649331952052, 'sequel': -0.18411474778002895, 'not': -0.17041060725906798, 'only': -0.11685755984779371, 'is': 0.12151455301029775, 'movie': -0.08295941920075216, 'and': 0.12758007934134952, 'i': -0.09092260534451284, 'as': 0.08779554117612505, 'find': -0.07690883303648671, 'just': -0.07076088040341894, 'ado': -0.056761875911738334, 'rather': -0.03994879850343075, 'probably': 0.06489178408448057, 'story': 0.03334377967852551, 'primitive': -0.027548318442662693, 'too': -0.053592430991732734, 'this': -0.03676407013071627, 'voted': 0.05906141361457895, 'dialogues': -0.04716854673006404, 'stuhr': -0.025509818399487898, 'fine': 0.014669118217275984, 'funny': 0.020339576435928288, 'non': -0.03880054679087908, 'thing': -0.03046003341018864, 'kilerow': 0.013933125199505467, 'tens': 0.0149435307937713, 'fortunately': -0.017624318109517128, 'grades': 0.01621559700673015, 'way': 0.004238600936933168, 'the': 0.03464986562282625, 'screenplay': -0.002162286722373421, 'same': 0.003344385532194212, 'other': 0.002048423181241206, 'mostly': 0.021773911130247025, 'was': 0.027128632808721652, 'giving': -0.005975955584309305, 'but': 0.008664222598792728, 'och': -0.0007376437609067735, 's': -0.005005298245163829, 'poles': 0.014412711967013946, 'much': 0.0019932517667077543, 'for': 0.021367100067339235, '2': 0.003907829658197035, 'on': -0.005528860551501316, 'ok': 0.015596701588240619, 'good': 0.01818786347308928, 'ryba': -0.0021841170405364424, 'so': -0.0022700515171670214, 'top': -0.024123428929804642, 'kiler': 0.001840563381451305, 'have': 0.0005137695942421088, 'comprehensive': 0.011736751022649348, 'that': 0.007424568582389548, 'acting': -0.03045023385666276, 'such': 0.011501745882623015, 'hand': 0.011108429682201302, 'included': -0.005471313212740666, 'in': -0.0056571327002085505, 'special': -0.000189227263124829, 'jerzy': -0.0017776954721766282, 'kilers': 0.010439059063646925, 'about': -0.001954511416167812, '250': -0.006433065335679099, 'people': -0.0025784812012908122, 'p': -0.0240552289045389}\n"
     ]
    }
   ],
   "source": [
    "lime_rep = 5  # Number of LIME explanations to generate\n",
    "lime_exp_dict = {}  # Dictionary to store aggregated LIME explanations\n",
    "lime_avg_dict = {}  # Dictionary to store averages\n",
    "\n",
    "# Generate multiple LIME explanations for the example sentence\n",
    "for rep in range(lime_rep):\n",
    "\n",
    "    # Generate LIME explanation for the current repetition\n",
    "    lime_exp = lime_explainer.explain_instance(example, classifier.predict_proba, num_features=params.MAX_LEN-1)\n",
    "\n",
    "    # Convert the LIME explanation to a dictionary\n",
    "    lime_exp_dict_rep = dict(lime_exp.as_list())\n",
    "\n",
    "    # Iterate over the explanation dictionary and aggregate values\n",
    "    for key, value in lime_exp_dict_rep.items():\n",
    "        # Check if the key already exists in the aggregated dictionary\n",
    "        if key not in lime_exp_dict:\n",
    "            lime_exp_dict[key] = []  # Initialize the value list if it doesn't exist\n",
    "\n",
    "        # Append the current value to the corresponding key's value list\n",
    "        lime_exp_dict[key].append(value)\n",
    "        \n",
    "# Calculate and store the average value for each key\n",
    "for key, values in lime_exp_dict.items():\n",
    "    if key not in lime_avg_dict:\n",
    "        lime_avg_dict[key] = sum(values) / lime_rep\n",
    "    else:\n",
    "        lime_avg_dict[key] += sum(values) / lime_rep        \n",
    "        \n",
    "# Print the aggregated LIME explanation dictionary\n",
    "print(f'Average LIME explanation over {lime_rep} repetitions:\\n{lime_avg_dict}')"
   ]
  },
  {
   "cell_type": "code",
   "execution_count": 22,
   "id": "59fcb507",
   "metadata": {},
   "outputs": [],
   "source": [
    "unk_string = ' '.join([params.MASK for i in range(params.MAX_LEN-1)])"
   ]
  },
  {
   "cell_type": "code",
   "execution_count": 23,
   "id": "914601b2",
   "metadata": {},
   "outputs": [
    {
     "name": "stdout",
     "output_type": "stream",
     "text": [
      "tensor([[ 1.2851, -1.8672]], grad_fn=<MmBackward0>)\n",
      "tensor([[-0.9658,  0.4816]], grad_fn=<MmBackward0>)\n",
      "tensor([[ 5.0221, -6.1563]], grad_fn=<MmBackward0>)\n",
      "tensor([[ 2.6124, -2.9471]], grad_fn=<MmBackward0>)\n",
      "tensor([[ 0.1497, -0.0261]], grad_fn=<MmBackward0>)\n",
      "tensor([[-2.5308,  3.9548]], grad_fn=<MmBackward0>)\n"
     ]
    }
   ],
   "source": [
    "# Preprocess the input sentence\n",
    "x = torch.stack([classifier.preprocess(example)])\n",
    "\n",
    "v, q, k, attention, g_u = [], [], [], [], []\n",
    "W_k, W_q, W_v, W, q_cls = [], [], [], [], []\n",
    "\n",
    "    \n",
    "emb = classifier.embedding(x.to(torch.int64))\n",
    "e = classifier.pe(emb)\n",
    "\n",
    "for h in range(params.NUM_HEADS):\n",
    "    # Transform the sentence embedding using the embedding layer\n",
    "    head = classifier.heads[h]\n",
    "\n",
    "\n",
    "    # Extract query, key, and value representations from the embedding\n",
    "    q.append(head.query(e))\n",
    "    k.append(head.key(e))\n",
    "    v.append(head.value(e))\n",
    "\n",
    "    W_k.append(head.key(torch.eye(e.shape[-1])))\n",
    "    W_q.append(head.query(torch.eye(e.shape[-1])))\n",
    "    W_v.append(head.value(torch.eye(e.shape[-1])))\n",
    "    W.append(head.classifier(torch.eye(v[h].shape[-1]))[:, 1])\n",
    "    q_cls.append(q[h][:, classifier.cls_pos, :])\n",
    "\n",
    "    # Calculate scaled dot-product attention\n",
    "    values, alpha, g = scaled_dot_product(q[h], k[h], v[h], return_g=True, scale=True)\n",
    "    \n",
    "    attention.append(alpha)\n",
    "    g_u.append(g[:, classifier.cls_pos, :])\n",
    "    \n",
    "    # Extract attention-weighted values for the classifier layer\n",
    "    cls_values = values[:, classifier.cls_pos, :]\n",
    "\n",
    "    # Pass the attention-weighted values through the classifier to obtain predictions\n",
    "    output = head.classifier(cls_values)\n",
    "\n",
    "    print(output)"
   ]
  },
  {
   "cell_type": "code",
   "execution_count": 24,
   "id": "9ca19a58",
   "metadata": {},
   "outputs": [],
   "source": [
    "# Preprocess the \"UNK\" token\n",
    "x_unk = torch.stack([classifier.preprocess(unk_string)])\n",
    "\n",
    "v_unk, q_unk, k_unk, g_unk = [], [], [], []\n",
    "\n",
    "# Convert the \"UNK\" token to embedding representation\n",
    "emb = classifier.embedding(x_unk.to(torch.int64))\n",
    "e_unk = classifier.pe(emb)\n",
    "\n",
    "\n",
    "for h in range(n_heads):\n",
    "    # Extract the hidden state (h) from the \"UNK\" token embedding\n",
    "    head = classifier.heads[h]\n",
    "    \n",
    "    v_unk.append(head.value(e_unk)) # + classifier.value(classifier.pe(x_unk.to(torch.int64)))\n",
    "    q_unk.append(head.query(e_unk)) # + classifier.query(classifier.pe(x_unk.to(torch.int64)))\n",
    "    k_unk.append(head.key(e_unk)) # + classifier.key(classifier.pe(x_unk.to(torch.int64)))\n",
    "    \n",
    "    d_k = q_unk[h].size()[-1]\n",
    "    attn_logits = torch.matmul(q[h], k_unk[h].transpose(-2, -1)) / math.sqrt(d_k)\n",
    "    g_unk.append(torch.exp(attn_logits)[:, classifier.cls_pos, :])"
   ]
  },
  {
   "cell_type": "code",
   "execution_count": 25,
   "id": "0d8086a3",
   "metadata": {},
   "outputs": [
    {
     "name": "stdout",
     "output_type": "stream",
     "text": [
      "{'2': [85, 87], '250': [79], 'about': [41, 69], 'acting': [56], 'ado': [68], 'amazing': [4], 'and': [93], 'as': [61], 'awful': [63], 'but': [28], 'comprehensive': [48], 'dialogues': [45], 'except': [57], 'find': [2], 'fine': [26], 'for': [13, 49, 58], 'fortunately': [71], 'funny': [27], 'giving': [16], 'good': [39], 'grades': [19], 'hand': [36], 'have': [11], 'i': [1], 'in': [76], 'included': [75], 'is': [43, 53, 89], 'it': [3, 17, 29, 64, 72, 94], 'jerzy': [59], 'just': [96], 'kiler': [42], 'kilerow': [84], 'kilers': [88], 'many': [7], 'mostly': [20], 'movie': [15, 24], 'much': [67], 'non': [50], 'not': [47, 74], 'nothing': [31, 70], 'och': [86], 'ok': [22], 'on': [33, 90], 'only': [38], 'other': [35], 'p': [80], 'people': [8], 'poles': [10, 51], 'primitive': [54], 'probably': [9], 'rather': [46], 'ryba': [62], 's': [65, 73, 81, 95], 'same': [98], 'screenplay': [52], 'sequel': [83], 'so': [6], 'special': [32], 'story': [99], 'stuhr': [60], 'such': [18], 'tens': [21], 'that': [5], 'the': [23, 34, 37, 44, 55, 77, 82, 91, 97], 'thing': [40], 'this': [14], 'too': [66], 'top': [78], 'voted': [12], 'was': [25, 30], 'way': [92]}\n"
     ]
    }
   ],
   "source": [
    "tokens = classifier.tokenizer(example)\n",
    "token_pos = {}  # Dictionary to store token positions\n",
    "for i, token in enumerate(tokens):\n",
    "    if i < params.MAX_LEN - 1:\n",
    "        if token not in token_pos:  # Check if token exists in the dictionary\n",
    "            token_pos[token] = []  # Initialize an empty list for the token\n",
    "        token_pos[token].append(i + 1)  # Append the current position to the token's list\n",
    "        \n",
    "print(dict(sorted(token_pos.items())))"
   ]
  },
  {
   "cell_type": "code",
   "execution_count": 26,
   "id": "42551241",
   "metadata": {},
   "outputs": [
    {
     "name": "stdout",
     "output_type": "stream",
     "text": [
      "{'i': -0.006039100524503738, 'find': -0.009068961131561082, 'it': 0.28466610366740497, 'amazing': 1.0026591444693622, 'that': -0.003360951490321895, 'so': -0.004450708824151661, 'many': 0.2013954095527879, 'people': -0.008128751796903089, 'probably': -0.0004088462155777961, 'poles': 0.0007389582336827516, 'have': -0.004635323479305953, 'voted': -0.0013600752099591773, 'for': 0.0020777580630237935, 'this': -0.0033294855966232717, 'movie': -0.08896815640036948, 'giving': -0.0014583452020815457, 'such': -0.005533543094315974, 'grades': -0.0014528579780517248, 'mostly': -0.0032523650725124753, 'tens': -0.0027890249111806042, 'ok': 0.0005548391127376817, 'the': 0.020992964138940806, 'was': 0.002875249439966865, 'fine': -0.00030544328183168545, 'funny': 0.000528690819919575, 'but': 0.00010442694474477321, 'nothing': -0.5688693760930619, 'special': 0.002919339265645249, 'on': -0.0016689124954609724, 'other': 0.0010363932469772408, 'hand': 0.00013790561752102803, 'only': -0.059570969111518934, 'good': -0.0015027294493847876, 'thing': -0.005453323789879505, 'about': 0.0005447569003536046, 'kiler': -0.0008788905520304979, 'is': 0.12511178266140632, 'dialogues': -0.01594841360929422, 'rather': 4.586830618791282e-05, 'not': -0.031297978304792196, 'comprehensive': 0.0010753518181445543, 'non': -0.014039868881809525, 'screenplay': 0.0034399524847685825, 'primitive': -0.012171636466518976, 'acting': -0.004979289898983552, 'except': -0.21260989822621923, 'jerzy': 0.001083113173081074, 'stuhr': -0.0007406298245768994, 'as': 0.010614227627229411, 'ryba': 0.0016361527377739549, 'awful': -1.6826827717741253, 's': -0.008326259448949713, 'too': -0.049111345811979845, 'much': -0.00290346794645302, 'ado': -0.02394908049609512, 'fortunately': -0.01581794121011626, 'included': 0.0003617714246502146, 'in': 0.006346154619677691, 'top': -0.00990228710725205, '250': -0.0037568372063105926, 'p': -0.03429202288680244, 'sequel': -0.5408265325604589, 'kilerow': 0.008177074748743962, '2': 0.008609190272181877, 'och': 0.005202620008276426, 'kilers': 0.0022329129387799185, 'way': -0.0016263800917499793, 'and': 0.10722921399610641, 'just': -0.11245966883871006, 'same': 0.012610532314283773, 'story': 0.012421651212207507}\n"
     ]
    }
   ],
   "source": [
    "lime_approx = {}  # Dictionary to store approximate LIME scores for tokens\n",
    "\n",
    "for token in token_pos.keys():\n",
    "    # Calculate the approximate LIME score for the current token\n",
    "    approx_score = 3/2 * np.mean(\n",
    "        [np.sum(\n",
    "            [\n",
    "        float((torch.matmul((attention[h][:, classifier.cls_pos, t] * v[h][:, t, :] - \n",
    "              g_unk[h][:,t] * v_unk[h][:, t, :] / torch.sum(g_unk[h])), \n",
    "             W[h])))\n",
    "        for t in token_pos[token]\n",
    "    ])\n",
    "        for h in range(params.NUM_HEADS)  \n",
    "    ])                       \n",
    "        \n",
    "    # Store the approximate LIME score for the token in the dictionary\n",
    "    lime_approx[token] = approx_score\n",
    "    \n",
    "print(lime_approx)"
   ]
  },
  {
   "cell_type": "code",
   "execution_count": 27,
   "id": "3dcc2441",
   "metadata": {},
   "outputs": [],
   "source": [
    "num_tokens = 10\n",
    "labels = list(lime_exp_dict.keys())[:num_tokens]"
   ]
  },
  {
   "cell_type": "code",
   "execution_count": 28,
   "id": "8b754cee",
   "metadata": {},
   "outputs": [
    {
     "data": {
      "image/png": "[encoded data removed]",
      "text/plain": [
       "<Figure size 720x432 with 1 Axes>"
      ]
     },
     "metadata": {
      "needs_background": "light"
     },
     "output_type": "display_data"
    }
   ],
   "source": [
    "# Create a figure for visualization\n",
    "plt.figure(figsize=(10, 6))\n",
    "\n",
    "# Generate a box plot of the attention scores for each token\n",
    "plt.boxplot(list(lime_exp_dict.values())[:num_tokens], labels=labels, showmeans=True)\n",
    "plt.title('LIME weights')\n",
    "plt.xlabel('Token')\n",
    "plt.xticks(rotation=90)\n",
    "plt.ylabel('Weights')\n",
    "\n",
    "# Overlay the approximated attention weights with red 'x' markers\n",
    "plt.scatter(range(1, len(labels) + 1), np.array([lime_approx[k] for k in labels]), marker='x', s=500, color='red')\n",
    "\n",
    "# Add a dotted horizontal line at y=0\n",
    "plt.axhline(0, color='black', linestyle='dotted')\n",
    "\n",
    "# Adjust the bottom margin to accommodate all labels\n",
    "plt.subplots_adjust(bottom=0.2)\n",
    "\n",
    "# Show the plot\n",
    "plt.show()"
   ]
  },
  {
   "cell_type": "code",
   "execution_count": null,
   "id": "ac56cd92",
   "metadata": {},
   "outputs": [],
   "source": []
  }
 ],
 "metadata": {
  "kernelspec": {
   "display_name": "Python 3",
   "language": "python",
   "name": "python3"
  },
  "language_info": {
   "codemirror_mode": {
    "name": "ipython",
    "version": 3
   },
   "file_extension": ".py",
   "mimetype": "text/x-python",
   "name": "python",
   "nbconvert_exporter": "python",
   "pygments_lexer": "ipython3",
   "version": "3.8.8"
  }
 },
 "nbformat": 4,
 "nbformat_minor": 5
}
