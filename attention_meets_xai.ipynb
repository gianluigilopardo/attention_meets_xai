{
 "cells": [
  {
   "cell_type": "markdown",
   "id": "d44c2537",
   "metadata": {},
   "source": [
    "# Attention meets XAI \n",
    "\n",
    "## Different explainers can produce very different explanations\n",
    "\n",
    "Generates Figure 1 of the paper *Attention Meets Post-hoc Interpretability: A Mathematical Perspective*. "
   ]
  },
  {
   "cell_type": "code",
   "execution_count": 1,
   "id": "4866bdaa",
   "metadata": {},
   "outputs": [],
   "source": [
    "import os\n",
    "import pickle\n",
    "import itertools \n",
    "\n",
    "import torch\n",
    "import numpy as np\n",
    "import math\n",
    "import re\n",
    "\n",
    "from lime import lime_text"
   ]
  },
  {
   "cell_type": "code",
   "execution_count": 2,
   "id": "f3be8ea9",
   "metadata": {},
   "outputs": [],
   "source": [
    "import matplotlib\n",
    "from matplotlib.backends.backend_pgf import FigureCanvasPgf\n",
    "from matplotlib import transforms\n",
    "import matplotlib.pyplot as plt"
   ]
  },
  {
   "cell_type": "code",
   "execution_count": 3,
   "id": "d12347f0",
   "metadata": {},
   "outputs": [],
   "source": [
    "matplotlib.backend_bases.register_backend('pdf', FigureCanvasPgf)\n",
    "plt.rc('pdf', fonttype=42)\n",
    "plt.rc('ps', fonttype=42)\n",
    "plt.rcParams.update({'font.size': 18})"
   ]
  },
  {
   "cell_type": "code",
   "execution_count": 4,
   "id": "207e0f2f",
   "metadata": {},
   "outputs": [],
   "source": [
    "SEED = 42\n",
    "torch.manual_seed(SEED)\n",
    "np.random.seed(SEED)"
   ]
  },
  {
   "cell_type": "code",
   "execution_count": 5,
   "id": "ac7e7520",
   "metadata": {},
   "outputs": [],
   "source": [
    "import sys\n",
    "sys.path.append(\"C:/Users/gianl/Anaconda3/bin\")"
   ]
  },
  {
   "cell_type": "code",
   "execution_count": 6,
   "id": "16f79688",
   "metadata": {},
   "outputs": [],
   "source": [
    "from models.utils import get_g_values\n",
    "from models.utils import scaled_dot_product\n",
    "from data.dataset import Dataset\n",
    "import params"
   ]
  },
  {
   "cell_type": "code",
   "execution_count": 7,
   "id": "17232e8b",
   "metadata": {},
   "outputs": [],
   "source": [
    "from utils.plots import plot_exp"
   ]
  },
  {
   "cell_type": "code",
   "execution_count": 8,
   "id": "3f798736",
   "metadata": {},
   "outputs": [
    {
     "name": "stdout",
     "output_type": "stream",
     "text": [
      "Using device: cpu\n",
      "Model loaded successfully from: .\\models\\saved\\IMDB\\multi_head_e\\model\n"
     ]
    }
   ],
   "source": [
    "# Check if CUDA is available and set device accordingly\n",
    "device = torch.device(\"cuda\" if torch.cuda.is_available() else \"cpu\")\n",
    "print(f\"Using device: {device}\")\n",
    "\n",
    "# Define model name and path\n",
    "model_name = 'multi_head_e\\\\model'\n",
    "model_path = os.path.join('.', 'models', 'saved', 'IMDB', model_name)\n",
    "\n",
    "# Load the classifier model\n",
    "with open(os.path.join(model_path, 'classifier.pkl'), 'rb') as inp:\n",
    "    classifier = pickle.load(inp)\n",
    "print(f\"Model loaded successfully from: {model_path}\")"
   ]
  },
  {
   "cell_type": "code",
   "execution_count": 9,
   "id": "210b3de0",
   "metadata": {},
   "outputs": [],
   "source": [
    "example = \"attention based explanations are popular but questionable\"\n",
    "\n",
    "tokens = classifier.tokenizer(example)"
   ]
  },
  {
   "cell_type": "code",
   "execution_count": 10,
   "id": "2db1df4c",
   "metadata": {},
   "outputs": [
    {
     "name": "stdout",
     "output_type": "stream",
     "text": [
      "attention based explanations are popular but questionable\n",
      "Prediction: [[-0.64168686  0.58398646]]\n"
     ]
    }
   ],
   "source": [
    "print(example)\n",
    "print(f'Prediction: {classifier.predict_proba([example])}')"
   ]
  },
  {
   "cell_type": "markdown",
   "id": "e63c2a23",
   "metadata": {},
   "source": [
    "# Explanations"
   ]
  },
  {
   "cell_type": "markdown",
   "id": "325ad117",
   "metadata": {},
   "source": [
    "## Attention"
   ]
  },
  {
   "cell_type": "markdown",
   "id": "c5e4e758",
   "metadata": {},
   "source": [
    "### Average"
   ]
  },
  {
   "cell_type": "code",
   "execution_count": 11,
   "id": "2436d220",
   "metadata": {},
   "outputs": [
    {
     "name": "stdout",
     "output_type": "stream",
     "text": [
      "{'popular': 0.13757623732089996, 'questionable': 0.10408841818571091, 'based': 0.07760432362556458, 'explanations': 0.05953999236226082, 'but': 0.03555268421769142, 'are': 0.014360223896801472, 'attention': 0.01219672430306673}\n"
     ]
    }
   ],
   "source": [
    "_, _, _, attn_exp = classifier.get_attention_exp(example, option='avg')\n",
    "print(attn_exp)"
   ]
  },
  {
   "cell_type": "markdown",
   "id": "ff114b2e",
   "metadata": {},
   "source": [
    "### Max"
   ]
  },
  {
   "cell_type": "code",
   "execution_count": 12,
   "id": "5a6dd64e",
   "metadata": {},
   "outputs": [
    {
     "name": "stdout",
     "output_type": "stream",
     "text": [
      "{'popular': 0.7247000336647034, 'questionable': 0.31604811549186707, 'based': 0.24733403325080872, 'explanations': 0.24306632578372955, 'but': 0.1136535033583641, 'are': 0.0641089454293251, 'attention': 0.05362429842352867}\n"
     ]
    }
   ],
   "source": [
    "_, _, _, attn_max_exp = classifier.get_attention_exp(example, option='max')\n",
    "print(attn_max_exp)"
   ]
  },
  {
   "cell_type": "markdown",
   "id": "37c0636c",
   "metadata": {},
   "source": [
    "## LIME"
   ]
  },
  {
   "cell_type": "code",
   "execution_count": 13,
   "id": "63e26217",
   "metadata": {},
   "outputs": [
    {
     "name": "stdout",
     "output_type": "stream",
     "text": [
      "{'popular': 0.235757339326017, 'are': -0.008930935648339028, 'explanations': -0.03887063225128187, 'attention': -0.07733145780027975, 'based': -0.2114407390394597, 'but': -0.32516291933583663, 'questionable': -1.0116138921266682}\n"
     ]
    }
   ],
   "source": [
    "lime_explainer = lime_text.LimeTextExplainer(class_names=['negative', 'positive'], mask_string=params.MASK, \n",
    "                                             # split_expression=classifier.tokenizer\n",
    "                                            )\n",
    "lime_exp_mh = lime_explainer.explain_instance(example, classifier.predict_proba, num_features=params.MAX_LEN)\n",
    "lime_exp = dict(sorted(dict(lime_exp_mh.as_list()).items(), key=lambda x: x[1], reverse=True))\n",
    "print(lime_exp)"
   ]
  },
  {
   "cell_type": "markdown",
   "id": "ff05c6dd",
   "metadata": {},
   "source": [
    "## Gradient "
   ]
  },
  {
   "cell_type": "markdown",
   "id": "c9bdba23",
   "metadata": {},
   "source": [
    "### Mean"
   ]
  },
  {
   "cell_type": "code",
   "execution_count": 14,
   "id": "e5b01df9",
   "metadata": {},
   "outputs": [
    {
     "name": "stdout",
     "output_type": "stream",
     "text": [
      "{'popular': 0.001740956911817193, 'based': 0.0015463110757991672, 'attention': -0.00026588496984913945, 'explanations': -0.0004182897391729057, 'are': -0.0007766992202959955, 'but': -0.002806743374094367, 'questionable': -0.008211946114897728}\n"
     ]
    }
   ],
   "source": [
    "gradient, gradient_mean_exp = classifier.get_gradient_exp(example, option='mean')\n",
    "print(gradient_mean_exp)"
   ]
  },
  {
   "cell_type": "markdown",
   "id": "0eb38846",
   "metadata": {},
   "source": [
    "### L2"
   ]
  },
  {
   "cell_type": "code",
   "execution_count": 15,
   "id": "3b1a3d4e",
   "metadata": {},
   "outputs": [
    {
     "name": "stdout",
     "output_type": "stream",
     "text": [
      "{'questionable': 1.331404447555542, 'based': 0.37513384222984314, 'popular': 0.35183799266815186, 'explanations': 0.2669317126274109, 'but': 0.25564855337142944, 'are': 0.056486066430807114, 'attention': 0.04051807150244713}\n"
     ]
    }
   ],
   "source": [
    "gradient, gradient_l2_exp = classifier.get_gradient_exp(example, option='l2')\n",
    "print(gradient_l2_exp)"
   ]
  },
  {
   "cell_type": "markdown",
   "id": "5813de73",
   "metadata": {},
   "source": [
    "### L1 "
   ]
  },
  {
   "cell_type": "code",
   "execution_count": 16,
   "id": "e9cd90f8",
   "metadata": {},
   "outputs": [
    {
     "name": "stdout",
     "output_type": "stream",
     "text": [
      "{'questionable': 11.99755573272705, 'based': 3.392225980758667, 'popular': 3.2402589321136475, 'explanations': 2.458035945892334, 'but': 2.270643472671509, 'are': 0.5111727714538574, 'attention': 0.3554685413837433}\n"
     ]
    }
   ],
   "source": [
    "gradient, gradient_l1_exp = classifier.get_gradient_exp(example, option='l1')\n",
    "print(gradient_l1_exp)"
   ]
  },
  {
   "cell_type": "markdown",
   "id": "932b053d",
   "metadata": {},
   "source": [
    "## Gradient$\\times$Input"
   ]
  },
  {
   "cell_type": "code",
   "execution_count": 17,
   "id": "b1aaa19f",
   "metadata": {},
   "outputs": [
    {
     "name": "stdout",
     "output_type": "stream",
     "text": [
      "{'popular': 0.28014135360717773, 'are': -0.014015511609613895, 'attention': -0.019129177555441856, 'explanations': -0.21370720863342285, 'based': -0.3420998752117157, 'but': -0.6027553677558899, 'questionable': -3.33164644241333}\n"
     ]
    }
   ],
   "source": [
    "gradient, gradient_xinput_exp = classifier.get_gradient_exp(example, option='xInput')\n",
    "print(gradient_xinput_exp)"
   ]
  },
  {
   "cell_type": "markdown",
   "id": "f044c074",
   "metadata": {},
   "source": [
    "# Visualize"
   ]
  },
  {
   "cell_type": "code",
   "execution_count": 18,
   "id": "ad9de6b1",
   "metadata": {},
   "outputs": [],
   "source": [
    "res_path = os.path.join('results', 'paper', 'qualitative')\n",
    "if not os.path.exists(res_path):\n",
    "    os.makedirs(res_path)"
   ]
  },
  {
   "cell_type": "code",
   "execution_count": 19,
   "id": "60c1e8d1",
   "metadata": {},
   "outputs": [
    {
     "name": "stdout",
     "output_type": "stream",
     "text": [
      "Attention - average over heads\n"
     ]
    },
    {
     "data": {
      "image/png": "[encoded data removed]",
      "text/plain": [
       "<Figure size 720x57.6 with 1 Axes>"
      ]
     },
     "metadata": {
      "needs_background": "light"
     },
     "output_type": "display_data"
    }
   ],
   "source": [
    "print('Attention - average over heads')\n",
    "plot_exp(attn_exp, tokens, save=os.path.join(res_path, 'attention.pdf'))"
   ]
  },
  {
   "cell_type": "code",
   "execution_count": 20,
   "id": "1294129e",
   "metadata": {},
   "outputs": [
    {
     "name": "stdout",
     "output_type": "stream",
     "text": [
      "Attention - maximum over heads\n"
     ]
    },
    {
     "data": {
      "image/png": "[encoded data removed]",
      "text/plain": [
       "<Figure size 720x57.6 with 1 Axes>"
      ]
     },
     "metadata": {
      "needs_background": "light"
     },
     "output_type": "display_data"
    }
   ],
   "source": [
    "print('Attention - maximum over heads')\n",
    "plot_exp(attn_max_exp, tokens, save=os.path.join(res_path, 'attention_max.pdf'))"
   ]
  },
  {
   "cell_type": "code",
   "execution_count": 21,
   "id": "9acdf588",
   "metadata": {},
   "outputs": [
    {
     "name": "stdout",
     "output_type": "stream",
     "text": [
      "LIME\n"
     ]
    },
    {
     "data": {
      "image/png": "[encoded data removed]",
      "text/plain": [
       "<Figure size 720x57.6 with 1 Axes>"
      ]
     },
     "metadata": {
      "needs_background": "light"
     },
     "output_type": "display_data"
    }
   ],
   "source": [
    "print('LIME')\n",
    "plot_exp(lime_exp, tokens, save=os.path.join(res_path, 'lime.pdf'))"
   ]
  },
  {
   "cell_type": "code",
   "execution_count": 22,
   "id": "0ea11180",
   "metadata": {},
   "outputs": [
    {
     "name": "stdout",
     "output_type": "stream",
     "text": [
      "Gradient Mean\n"
     ]
    },
    {
     "data": {
      "image/png": "[encoded data removed]",
      "text/plain": [
       "<Figure size 720x57.6 with 1 Axes>"
      ]
     },
     "metadata": {
      "needs_background": "light"
     },
     "output_type": "display_data"
    }
   ],
   "source": [
    "print('Gradient Mean')\n",
    "plot_exp(gradient_mean_exp, tokens, save=os.path.join(res_path, 'gradient_mean.pdf'))"
   ]
  },
  {
   "cell_type": "code",
   "execution_count": 23,
   "id": "b9d89fa1",
   "metadata": {},
   "outputs": [
    {
     "name": "stdout",
     "output_type": "stream",
     "text": [
      "Gradient L1\n"
     ]
    },
    {
     "data": {
      "image/png": "[encoded data removed]",
      "text/plain": [
       "<Figure size 720x57.6 with 1 Axes>"
      ]
     },
     "metadata": {
      "needs_background": "light"
     },
     "output_type": "display_data"
    }
   ],
   "source": [
    "print('Gradient L1')\n",
    "plot_exp(gradient_l1_exp, tokens, save=os.path.join(res_path, 'gradient_l1.pdf'))"
   ]
  },
  {
   "cell_type": "code",
   "execution_count": 24,
   "id": "89353b2b",
   "metadata": {},
   "outputs": [
    {
     "name": "stdout",
     "output_type": "stream",
     "text": [
      "Gradient L2\n"
     ]
    },
    {
     "data": {
      "image/png": "[encoded data removed]",
      "text/plain": [
       "<Figure size 720x57.6 with 1 Axes>"
      ]
     },
     "metadata": {
      "needs_background": "light"
     },
     "output_type": "display_data"
    }
   ],
   "source": [
    "print('Gradient L2')\n",
    "plot_exp(gradient_l2_exp, tokens, save=os.path.join(res_path, 'gradient_l2.pdf'))"
   ]
  },
  {
   "cell_type": "code",
   "execution_count": 25,
   "id": "6f739695",
   "metadata": {},
   "outputs": [
    {
     "name": "stdout",
     "output_type": "stream",
     "text": [
      "Gradient x Input\n"
     ]
    },
    {
     "data": {
      "image/png": "[encoded data removed]",
      "text/plain": [
       "<Figure size 720x57.6 with 1 Axes>"
      ]
     },
     "metadata": {
      "needs_background": "light"
     },
     "output_type": "display_data"
    }
   ],
   "source": [
    "print('Gradient x Input')\n",
    "plot_exp(gradient_xinput_exp, tokens, save=os.path.join(res_path, 'gradient_input.pdf'))"
   ]
  },
  {
   "cell_type": "code",
   "execution_count": null,
   "id": "89c984ac",
   "metadata": {},
   "outputs": [],
   "source": []
  }
 ],
 "metadata": {
  "kernelspec": {
   "display_name": "Python 3",
   "language": "python",
   "name": "python3"
  },
  "language_info": {
   "codemirror_mode": {
    "name": "ipython",
    "version": 3
   },
   "file_extension": ".py",
   "mimetype": "text/x-python",
   "name": "python",
   "nbconvert_exporter": "python",
   "pygments_lexer": "ipython3",
   "version": "3.8.8"
  }
 },
 "nbformat": 4,
 "nbformat_minor": 5
}
